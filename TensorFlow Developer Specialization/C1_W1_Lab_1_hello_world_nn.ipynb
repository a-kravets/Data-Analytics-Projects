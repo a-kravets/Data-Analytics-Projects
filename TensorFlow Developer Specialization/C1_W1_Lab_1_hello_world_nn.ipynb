{
 "cells": [
  {
   "cell_type": "code",
   "execution_count": 2,
   "id": "26515684",
   "metadata": {},
   "outputs": [
    {
     "name": "stdout",
     "output_type": "stream",
     "text": [
      "2.13.0\n"
     ]
    }
   ],
   "source": [
    "import tensorflow as tf\n",
    "import numpy as np\n",
    "from tensorflow import keras\n",
    "\n",
    "print(tf.__version__)"
   ]
  },
  {
   "cell_type": "code",
   "execution_count": 3,
   "id": "0cd2160c",
   "metadata": {},
   "outputs": [],
   "source": [
    "# Build a simple Sequential model\n",
    "model = tf.keras.Sequential([keras.layers.Dense(units=1, input_shape=[1])])"
   ]
  },
  {
   "cell_type": "code",
   "execution_count": 4,
   "id": "628c4584",
   "metadata": {},
   "outputs": [],
   "source": [
    "# Compile the model\n",
    "model.compile(optimizer='sgd', loss='mean_squared_error')"
   ]
  },
  {
   "cell_type": "code",
   "execution_count": 5,
   "id": "28d4d32a",
   "metadata": {},
   "outputs": [],
   "source": [
    "# Declare model inputs and outputs for training\n",
    "xs = np.array([-1.0,  0.0, 1.0, 2.0, 3.0, 4.0], dtype=float)\n",
    "ys = np.array([-3.0, -1.0, 1.0, 3.0, 5.0, 7.0], dtype=float)"
   ]
  },
  {
   "cell_type": "code",
   "execution_count": 9,
   "id": "bda7262f",
   "metadata": {},
   "outputs": [
    {
     "name": "stdout",
     "output_type": "stream",
     "text": [
      "Epoch 1/10\n",
      "1/1 [==============================] - 0s 14ms/step - loss: 6.3350e-10\n",
      "Epoch 2/10\n",
      "1/1 [==============================] - 0s 14ms/step - loss: 6.2080e-10\n",
      "Epoch 3/10\n",
      "1/1 [==============================] - 0s 16ms/step - loss: 6.0737e-10\n",
      "Epoch 4/10\n",
      "1/1 [==============================] - 0s 16ms/step - loss: 5.9388e-10\n",
      "Epoch 5/10\n",
      "1/1 [==============================] - 0s 9ms/step - loss: 5.8222e-10\n",
      "Epoch 6/10\n",
      "1/1 [==============================] - 0s 12ms/step - loss: 5.7067e-10\n",
      "Epoch 7/10\n",
      "1/1 [==============================] - 0s 12ms/step - loss: 5.6180e-10\n",
      "Epoch 8/10\n",
      "1/1 [==============================] - 0s 11ms/step - loss: 5.5045e-10\n",
      "Epoch 9/10\n",
      "1/1 [==============================] - 0s 8ms/step - loss: 5.3919e-10\n",
      "Epoch 10/10\n",
      "1/1 [==============================] - 0s 15ms/step - loss: 5.3060e-10\n"
     ]
    },
    {
     "data": {
      "text/plain": [
       "<keras.src.callbacks.History at 0x1e72e449bd0>"
      ]
     },
     "execution_count": 9,
     "metadata": {},
     "output_type": "execute_result"
    }
   ],
   "source": [
    "# Train the model\n",
    "model.fit(xs, ys, epochs=10)"
   ]
  },
  {
   "cell_type": "code",
   "execution_count": 10,
   "id": "e4e48a67",
   "metadata": {},
   "outputs": [
    {
     "name": "stdout",
     "output_type": "stream",
     "text": [
      "1/1 [==============================] - 0s 131ms/step\n",
      "[[18.999931]]\n"
     ]
    }
   ],
   "source": [
    "# Make a prediction\n",
    "print(model.predict([10.0]))"
   ]
  },
  {
   "cell_type": "code",
   "execution_count": null,
   "id": "2a22180f",
   "metadata": {},
   "outputs": [],
   "source": []
  }
 ],
 "metadata": {
  "kernelspec": {
   "display_name": "Python 3 (ipykernel)",
   "language": "python",
   "name": "python3"
  },
  "language_info": {
   "codemirror_mode": {
    "name": "ipython",
    "version": 3
   },
   "file_extension": ".py",
   "mimetype": "text/x-python",
   "name": "python",
   "nbconvert_exporter": "python",
   "pygments_lexer": "ipython3",
   "version": "3.10.9"
  }
 },
 "nbformat": 4,
 "nbformat_minor": 5
}
