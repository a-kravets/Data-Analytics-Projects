{
 "cells": [
  {
   "cell_type": "code",
   "execution_count": 65,
   "metadata": {},
   "outputs": [],
   "source": [
    "import pandas as pd\n",
    "import numpy as np\n",
    "import datetime as dt"
   ]
  },
  {
   "cell_type": "code",
   "execution_count": 66,
   "metadata": {},
   "outputs": [],
   "source": [
    "data = pd.read_csv(\"query_result_2020-05-26T16 35 31.782649Z_last6month_creat_date.csv\", parse_dates=\\\n",
    "[\"creation_time_profile\", 'execution_time', 'first_note_date', 'ftd_time', 'last_trade_date', 'last_deposit_time', 'ltd_time'])"
   ]
  },
  {
   "cell_type": "code",
   "execution_count": 68,
   "metadata": {},
   "outputs": [],
   "source": [
    "# excluding (...) for large number of columns\n",
    "pd.set_option(\"display.max.columns\", None) "
   ]
  },
  {
   "cell_type": "code",
   "execution_count": 69,
   "metadata": {},
   "outputs": [],
   "source": [
    "# filtering ftd only\n",
    "data = data[data['ftd']==1]"
   ]
  },
  {
   "cell_type": "code",
   "execution_count": 70,
   "metadata": {},
   "outputs": [],
   "source": [
    "# adding index column\n",
    "data = data.reset_index()"
   ]
  },
  {
   "cell_type": "code",
   "execution_count": 71,
   "metadata": {},
   "outputs": [],
   "source": [
    "# transforming our date columns to 'yyyy-mm-dd' format\n",
    "data['ltd_time'] = [d.date() for d in data['ltd_time']]\n",
    "data['ftd_time'] = [d.date() for d in data['ftd_time']]"
   ]
  },
  {
   "cell_type": "code",
   "execution_count": 72,
   "metadata": {},
   "outputs": [
    {
     "data": {
      "text/plain": [
       "0       2020-03-06\n",
       "1       2020-04-26\n",
       "2       2020-03-06\n",
       "3       2020-04-20\n",
       "4       2020-03-23\n",
       "           ...    \n",
       "5921    2020-03-30\n",
       "5922    2020-01-04\n",
       "5923    2020-02-13\n",
       "5924    2020-02-26\n",
       "5925    2020-02-25\n",
       "Name: ltd_time, Length: 5926, dtype: object"
      ]
     },
     "execution_count": 72,
     "metadata": {},
     "output_type": "execute_result"
    }
   ],
   "source": [
    "# checking\n",
    "data['ltd_time']"
   ]
  },
  {
   "cell_type": "code",
   "execution_count": 73,
   "metadata": {},
   "outputs": [],
   "source": [
    "# grouping by client_id and last active month\n",
    "data['LastMonth'] = pd.to_datetime(data['ltd_time']).dt.to_period('M')\n",
    "grouping = data.groupby('profile_id')['LastMonth']\n",
    "\n",
    "# adding column with cohort month\n",
    "data['CohortMonth'] = pd.to_datetime(data['ftd_time']).dt.to_period('M')"
   ]
  },
  {
   "cell_type": "code",
   "execution_count": 74,
   "metadata": {},
   "outputs": [],
   "source": [
    "def get_date_int(df, column):\n",
    "    year = df[column].dt.year\n",
    "    month = df[column].dt.month\n",
    "    day = df[column].dt.day\n",
    "    return year, month, day"
   ]
  },
  {
   "cell_type": "code",
   "execution_count": 75,
   "metadata": {
    "scrolled": true
   },
   "outputs": [],
   "source": [
    "# getting year and month\n",
    "invoice_year, invoice_month, _ = get_date_int(data, 'LastMonth')\n",
    "cohort_year, cohort_month, _ = get_date_int(data, 'CohortMonth')\n",
    "\n",
    "# calculating the difference between cohort month and last active month\n",
    "years_diff = invoice_year - cohort_year\n",
    "months_diff = invoice_month - cohort_month\n",
    "\n",
    "# creating cohort index\n",
    "data['CohortIndex'] = years_diff * 12 + months_diff + 1"
   ]
  },
  {
   "cell_type": "code",
   "execution_count": 76,
   "metadata": {},
   "outputs": [],
   "source": [
    "# filtering out one row with corrupted data\n",
    "data['CohortIndex'] = data['CohortIndex'].sort_values().tail(5924)"
   ]
  },
  {
   "cell_type": "code",
   "execution_count": 77,
   "metadata": {},
   "outputs": [
    {
     "name": "stdout",
     "output_type": "stream",
     "text": [
      "CohortIndex     1.0    2.0   3.0   4.0   5.0   6.0  7.0\n",
      "CohortMonth                                            \n",
      "2019-11       456.0   44.0  34.0  18.0   5.0   2.0  3.0\n",
      "2019-12       614.0   70.0  43.0  33.0  13.0  13.0  NaN\n",
      "2020-01       739.0   69.0  43.0  15.0  13.0   NaN  NaN\n",
      "2020-02       906.0   89.0  31.0  30.0   NaN   NaN  NaN\n",
      "2020-03      1213.0  193.0  90.0   NaN   NaN   NaN  NaN\n",
      "2020-04       900.0  139.0   NaN   NaN   NaN   NaN  NaN\n",
      "2020-05       106.0    NaN   NaN   NaN   NaN   NaN  NaN\n"
     ]
    }
   ],
   "source": [
    "# grouping and pivoting\n",
    "grouping = data.groupby(['CohortMonth', 'CohortIndex'])\n",
    "cohort_data = grouping['profile_id'].apply(pd.Series.nunique)\n",
    "cohort_data = cohort_data.reset_index()\n",
    "cohort_counts = cohort_data.pivot(index='CohortMonth',\n",
    "                                    columns='CohortIndex',\n",
    "                                    values='profile_id')\n",
    "print(cohort_counts)"
   ]
  },
  {
   "cell_type": "code",
   "execution_count": 78,
   "metadata": {},
   "outputs": [],
   "source": [
    "# storing the first column as cohort_sizes\n",
    "cohort_sizes = cohort_counts.iloc[:,0]"
   ]
  },
  {
   "cell_type": "code",
   "execution_count": 79,
   "metadata": {},
   "outputs": [
    {
     "data": {
      "text/plain": [
       "CohortMonth\n",
       "2019-11     456.0\n",
       "2019-12     614.0\n",
       "2020-01     739.0\n",
       "2020-02     906.0\n",
       "2020-03    1213.0\n",
       "2020-04     900.0\n",
       "2020-05     106.0\n",
       "Freq: M, Name: 1.0, dtype: float64"
      ]
     },
     "execution_count": 79,
     "metadata": {},
     "output_type": "execute_result"
    }
   ],
   "source": [
    "cohort_sizes"
   ]
  },
  {
   "cell_type": "code",
   "execution_count": 80,
   "metadata": {},
   "outputs": [],
   "source": [
    "# dividing all values in the cohort_counts table by cohort_sizes to get retention %%\n",
    "retention = cohort_counts.divide(cohort_sizes, axis=0)"
   ]
  },
  {
   "cell_type": "code",
   "execution_count": 81,
   "metadata": {},
   "outputs": [
    {
     "data": {
      "text/html": [
       "<div>\n",
       "<style scoped>\n",
       "    .dataframe tbody tr th:only-of-type {\n",
       "        vertical-align: middle;\n",
       "    }\n",
       "\n",
       "    .dataframe tbody tr th {\n",
       "        vertical-align: top;\n",
       "    }\n",
       "\n",
       "    .dataframe thead th {\n",
       "        text-align: right;\n",
       "    }\n",
       "</style>\n",
       "<table border=\"1\" class=\"dataframe\">\n",
       "  <thead>\n",
       "    <tr style=\"text-align: right;\">\n",
       "      <th>CohortIndex</th>\n",
       "      <th>1.0</th>\n",
       "      <th>2.0</th>\n",
       "      <th>3.0</th>\n",
       "      <th>4.0</th>\n",
       "      <th>5.0</th>\n",
       "      <th>6.0</th>\n",
       "      <th>7.0</th>\n",
       "    </tr>\n",
       "    <tr>\n",
       "      <th>CohortMonth</th>\n",
       "      <th></th>\n",
       "      <th></th>\n",
       "      <th></th>\n",
       "      <th></th>\n",
       "      <th></th>\n",
       "      <th></th>\n",
       "      <th></th>\n",
       "    </tr>\n",
       "  </thead>\n",
       "  <tbody>\n",
       "    <tr>\n",
       "      <th>2019-11</th>\n",
       "      <td>100.0</td>\n",
       "      <td>9.6</td>\n",
       "      <td>7.5</td>\n",
       "      <td>3.9</td>\n",
       "      <td>1.1</td>\n",
       "      <td>0.4</td>\n",
       "      <td>0.7</td>\n",
       "    </tr>\n",
       "    <tr>\n",
       "      <th>2019-12</th>\n",
       "      <td>100.0</td>\n",
       "      <td>11.4</td>\n",
       "      <td>7.0</td>\n",
       "      <td>5.4</td>\n",
       "      <td>2.1</td>\n",
       "      <td>2.1</td>\n",
       "      <td>NaN</td>\n",
       "    </tr>\n",
       "    <tr>\n",
       "      <th>2020-01</th>\n",
       "      <td>100.0</td>\n",
       "      <td>9.3</td>\n",
       "      <td>5.8</td>\n",
       "      <td>2.0</td>\n",
       "      <td>1.8</td>\n",
       "      <td>NaN</td>\n",
       "      <td>NaN</td>\n",
       "    </tr>\n",
       "    <tr>\n",
       "      <th>2020-02</th>\n",
       "      <td>100.0</td>\n",
       "      <td>9.8</td>\n",
       "      <td>3.4</td>\n",
       "      <td>3.3</td>\n",
       "      <td>NaN</td>\n",
       "      <td>NaN</td>\n",
       "      <td>NaN</td>\n",
       "    </tr>\n",
       "    <tr>\n",
       "      <th>2020-03</th>\n",
       "      <td>100.0</td>\n",
       "      <td>15.9</td>\n",
       "      <td>7.4</td>\n",
       "      <td>NaN</td>\n",
       "      <td>NaN</td>\n",
       "      <td>NaN</td>\n",
       "      <td>NaN</td>\n",
       "    </tr>\n",
       "    <tr>\n",
       "      <th>2020-04</th>\n",
       "      <td>100.0</td>\n",
       "      <td>15.4</td>\n",
       "      <td>NaN</td>\n",
       "      <td>NaN</td>\n",
       "      <td>NaN</td>\n",
       "      <td>NaN</td>\n",
       "      <td>NaN</td>\n",
       "    </tr>\n",
       "    <tr>\n",
       "      <th>2020-05</th>\n",
       "      <td>100.0</td>\n",
       "      <td>NaN</td>\n",
       "      <td>NaN</td>\n",
       "      <td>NaN</td>\n",
       "      <td>NaN</td>\n",
       "      <td>NaN</td>\n",
       "      <td>NaN</td>\n",
       "    </tr>\n",
       "  </tbody>\n",
       "</table>\n",
       "</div>"
      ],
      "text/plain": [
       "CohortIndex    1.0   2.0  3.0  4.0  5.0  6.0  7.0\n",
       "CohortMonth                                      \n",
       "2019-11      100.0   9.6  7.5  3.9  1.1  0.4  0.7\n",
       "2019-12      100.0  11.4  7.0  5.4  2.1  2.1  NaN\n",
       "2020-01      100.0   9.3  5.8  2.0  1.8  NaN  NaN\n",
       "2020-02      100.0   9.8  3.4  3.3  NaN  NaN  NaN\n",
       "2020-03      100.0  15.9  7.4  NaN  NaN  NaN  NaN\n",
       "2020-04      100.0  15.4  NaN  NaN  NaN  NaN  NaN\n",
       "2020-05      100.0   NaN  NaN  NaN  NaN  NaN  NaN"
      ]
     },
     "execution_count": 81,
     "metadata": {},
     "output_type": "execute_result"
    }
   ],
   "source": [
    "# retention rates in %%\n",
    "retention.round(3) * 100"
   ]
  },
  {
   "cell_type": "code",
   "execution_count": 82,
   "metadata": {},
   "outputs": [
    {
     "data": {
      "text/html": [
       "<div>\n",
       "<style scoped>\n",
       "    .dataframe tbody tr th:only-of-type {\n",
       "        vertical-align: middle;\n",
       "    }\n",
       "\n",
       "    .dataframe tbody tr th {\n",
       "        vertical-align: top;\n",
       "    }\n",
       "\n",
       "    .dataframe thead th {\n",
       "        text-align: right;\n",
       "    }\n",
       "</style>\n",
       "<table border=\"1\" class=\"dataframe\">\n",
       "  <thead>\n",
       "    <tr style=\"text-align: right;\">\n",
       "      <th>CohortIndex</th>\n",
       "      <th>1.0</th>\n",
       "      <th>2.0</th>\n",
       "      <th>3.0</th>\n",
       "      <th>4.0</th>\n",
       "      <th>5.0</th>\n",
       "      <th>6.0</th>\n",
       "      <th>7.0</th>\n",
       "    </tr>\n",
       "    <tr>\n",
       "      <th>CohortMonth</th>\n",
       "      <th></th>\n",
       "      <th></th>\n",
       "      <th></th>\n",
       "      <th></th>\n",
       "      <th></th>\n",
       "      <th></th>\n",
       "      <th></th>\n",
       "    </tr>\n",
       "  </thead>\n",
       "  <tbody>\n",
       "    <tr>\n",
       "      <th>2019-11</th>\n",
       "      <td>289.3</td>\n",
       "      <td>385.5</td>\n",
       "      <td>272.3</td>\n",
       "      <td>263.3</td>\n",
       "      <td>294.2</td>\n",
       "      <td>447.6</td>\n",
       "      <td>267.2</td>\n",
       "    </tr>\n",
       "    <tr>\n",
       "      <th>2019-12</th>\n",
       "      <td>282.2</td>\n",
       "      <td>269.8</td>\n",
       "      <td>263.2</td>\n",
       "      <td>270.6</td>\n",
       "      <td>687.2</td>\n",
       "      <td>266.6</td>\n",
       "      <td>NaN</td>\n",
       "    </tr>\n",
       "    <tr>\n",
       "      <th>2020-01</th>\n",
       "      <td>295.8</td>\n",
       "      <td>429.2</td>\n",
       "      <td>326.0</td>\n",
       "      <td>1014.4</td>\n",
       "      <td>290.6</td>\n",
       "      <td>NaN</td>\n",
       "      <td>NaN</td>\n",
       "    </tr>\n",
       "    <tr>\n",
       "      <th>2020-02</th>\n",
       "      <td>277.7</td>\n",
       "      <td>298.8</td>\n",
       "      <td>282.3</td>\n",
       "      <td>398.9</td>\n",
       "      <td>NaN</td>\n",
       "      <td>NaN</td>\n",
       "      <td>NaN</td>\n",
       "    </tr>\n",
       "    <tr>\n",
       "      <th>2020-03</th>\n",
       "      <td>284.0</td>\n",
       "      <td>319.7</td>\n",
       "      <td>384.1</td>\n",
       "      <td>NaN</td>\n",
       "      <td>NaN</td>\n",
       "      <td>NaN</td>\n",
       "      <td>NaN</td>\n",
       "    </tr>\n",
       "    <tr>\n",
       "      <th>2020-04</th>\n",
       "      <td>324.7</td>\n",
       "      <td>321.9</td>\n",
       "      <td>NaN</td>\n",
       "      <td>NaN</td>\n",
       "      <td>NaN</td>\n",
       "      <td>NaN</td>\n",
       "      <td>NaN</td>\n",
       "    </tr>\n",
       "    <tr>\n",
       "      <th>2020-05</th>\n",
       "      <td>266.8</td>\n",
       "      <td>NaN</td>\n",
       "      <td>NaN</td>\n",
       "      <td>NaN</td>\n",
       "      <td>NaN</td>\n",
       "      <td>NaN</td>\n",
       "      <td>NaN</td>\n",
       "    </tr>\n",
       "  </tbody>\n",
       "</table>\n",
       "</div>"
      ],
      "text/plain": [
       "CohortIndex    1.0    2.0    3.0     4.0    5.0    6.0    7.0\n",
       "CohortMonth                                                  \n",
       "2019-11      289.3  385.5  272.3   263.3  294.2  447.6  267.2\n",
       "2019-12      282.2  269.8  263.2   270.6  687.2  266.6    NaN\n",
       "2020-01      295.8  429.2  326.0  1014.4  290.6    NaN    NaN\n",
       "2020-02      277.7  298.8  282.3   398.9    NaN    NaN    NaN\n",
       "2020-03      284.0  319.7  384.1     NaN    NaN    NaN    NaN\n",
       "2020-04      324.7  321.9    NaN     NaN    NaN    NaN    NaN\n",
       "2020-05      266.8    NaN    NaN     NaN    NaN    NaN    NaN"
      ]
     },
     "execution_count": 82,
     "metadata": {},
     "output_type": "execute_result"
    }
   ],
   "source": [
    "grouping = data.groupby(['CohortMonth', 'CohortIndex'])\n",
    "cohort_data = grouping['deposit_usd'].mean()\n",
    "cohort_data = cohort_data.reset_index()\n",
    "average_quantity = cohort_data.pivot(index='CohortMonth',\n",
    "    columns='CohortIndex',\n",
    "    values='deposit_usd')\n",
    "\n",
    "# avg monetary deposits\n",
    "average_quantity.round(1)"
   ]
  },
  {
   "cell_type": "code",
   "execution_count": 83,
   "metadata": {},
   "outputs": [
    {
     "data": {
      "image/png": "[encoded data removed]",
      "text/plain": [
       "<Figure size 720x576 with 2 Axes>"
      ]
     },
     "metadata": {
      "needs_background": "light"
     },
     "output_type": "display_data"
    }
   ],
   "source": [
    "import seaborn as sns\n",
    "import matplotlib.pyplot as plt\n",
    "plt.figure(figsize=(10, 8))\n",
    "plt.title('Retention rates')\n",
    "sns.heatmap(data = retention,\n",
    "    annot = True,\n",
    "    fmt = '.0%',\n",
    "    vmin = 0.0,\n",
    "    vmax = 0.5,\n",
    "    cmap = 'BuGn')\n",
    "plt.show()"
   ]
  },
  {
   "cell_type": "code",
   "execution_count": 84,
   "metadata": {},
   "outputs": [
    {
     "data": {
      "image/png": "[encoded data removed]",
      "text/plain": [
       "<Figure size 720x576 with 2 Axes>"
      ]
     },
     "metadata": {
      "needs_background": "light"
     },
     "output_type": "display_data"
    }
   ],
   "source": [
    "import seaborn as sns\n",
    "import matplotlib.pyplot as plt\n",
    "plt.figure(figsize=(10, 8))\n",
    "plt.title('Average monetary deposits')\n",
    "sns.heatmap(data = average_quantity,\n",
    "    annot = True,\n",
    "    fmt = '.1f',\n",
    "    vmin = 0.0,\n",
    "    vmax = 0.5,\n",
    "    cmap = 'BuGn')\n",
    "plt.show()"
   ]
  },
  {
   "cell_type": "code",
   "execution_count": null,
   "metadata": {},
   "outputs": [],
   "source": []
  }
 ],
 "metadata": {
  "kernelspec": {
   "display_name": "Python 3",
   "language": "python",
   "name": "python3"
  },
  "language_info": {
   "codemirror_mode": {
    "name": "ipython",
    "version": 3
   },
   "file_extension": ".py",
   "mimetype": "text/x-python",
   "name": "python",
   "nbconvert_exporter": "python",
   "pygments_lexer": "ipython3",
   "version": "3.7.6"
  }
 },
 "nbformat": 4,
 "nbformat_minor": 4
}
